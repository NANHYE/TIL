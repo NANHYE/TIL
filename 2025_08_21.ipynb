{
 "cells": [
  {
   "cell_type": "markdown",
   "id": "5ffc9fe7",
   "metadata": {},
   "source": [
    "### **함수 직접 정의하기 (사용자 정의 함수)**\n",
    "\n",
    "아래 문제들을 해결하기 위한 함수를 직접 작성해 보세요."
   ]
  },
  {
   "cell_type": "markdown",
   "id": "a8f949ff",
   "metadata": {},
   "source": [
    "#### **난이도 (하)**"
   ]
  },
  {
   "cell_type": "markdown",
   "id": "ead3b1eb",
   "metadata": {},
   "source": [
    "**문제 1 (빈칸 채우기)**\n",
    "\"안녕하세요!\"를 출력하는 `say_hello` 함수를 완성하세요.\n",
    "\n",
    "___를 지우고 들어갈 내용을 작성하세요"
   ]
  },
  {
   "cell_type": "code",
   "execution_count": null,
   "id": "0f3b3b2c",
   "metadata": {},
   "outputs": [
    {
     "name": "stdout",
     "output_type": "stream",
     "text": [
      "안녕\n"
     ]
    }
   ],
   "source": [
    "# 여기에 함수를 정의하세요!\n",
    "def say_hello():\n",
    "    print(\"안녕\")     \n",
    "    # print(say_hello())\n",
    "\n",
    "say_hello()"
   ]
  },
  {
   "cell_type": "code",
   "execution_count": null,
   "id": "39d93f18",
   "metadata": {},
   "outputs": [
    {
     "data": {
      "text/plain": [
       "'안녕'"
      ]
     },
     "execution_count": 77,
     "metadata": {},
     "output_type": "execute_result"
    }
   ],
   "source": [
    "def say_hello():\n",
    "    return \"안녕\"\n",
    "    # print(say_hello())\n",
    "\n",
    "say_hello()"
   ]
  },
  {
   "cell_type": "code",
   "execution_count": null,
   "id": "903bbd3c",
   "metadata": {},
   "outputs": [
    {
     "data": {
      "text/plain": [
       "'안녕'"
      ]
     },
     "execution_count": 73,
     "metadata": {},
     "output_type": "execute_result"
    }
   ],
   "source": [
    "\"안녕\" # 예상 출력: 안녕하세요!"
   ]
  },
  {
   "cell_type": "markdown",
   "id": "88420a77",
   "metadata": {},
   "source": [
    "**문제 2**\n",
    "이름을 인자로 받아 \"안녕하세요, [이름]님!\"을 출력하는 `greet` 함수를 만드세요."
   ]
  },
  {
   "cell_type": "code",
   "execution_count": 58,
   "id": "a3166510",
   "metadata": {},
   "outputs": [],
   "source": [
    "def greet(name):\n",
    "    print(f\"안녕하세요. {name}님!\")"
   ]
  },
  {
   "cell_type": "code",
   "execution_count": 59,
   "id": "901ca0f1",
   "metadata": {},
   "outputs": [
    {
     "name": "stdout",
     "output_type": "stream",
     "text": [
      "안녕하세요. 은서님!\n"
     ]
    }
   ],
   "source": [
    "# 여기에 함수를 정의하세요!\n",
    "greet(\"은서\") # 예상 출력: 안녕하세요, 은서님!"
   ]
  },
  {
   "cell_type": "markdown",
   "id": "cc77b545",
   "metadata": {},
   "source": [
    "**문제 3**\n",
    "두 개의 숫자를 인자로 받아 그 합을 반환하는 `add_numbers` 함수를 만드세요."
   ]
  },
  {
   "cell_type": "code",
   "execution_count": 91,
   "id": "607e3a08",
   "metadata": {},
   "outputs": [
    {
     "data": {
      "text/plain": [
       "15"
      ]
     },
     "execution_count": 91,
     "metadata": {},
     "output_type": "execute_result"
    }
   ],
   "source": [
    "def add_numbers(a,b):\n",
    "    return a + b\n",
    "add_numbers(10, 5) \n"
   ]
  },
  {
   "cell_type": "code",
   "execution_count": 93,
   "id": "768aa7c6",
   "metadata": {},
   "outputs": [
    {
     "data": {
      "text/plain": [
       "25"
      ]
     },
     "execution_count": 93,
     "metadata": {},
     "output_type": "execute_result"
    }
   ],
   "source": [
    "# 여기에 함수를 정의하세요!\n",
    "add_numbers(20, 5) # 예상 출력: 15"
   ]
  },
  {
   "cell_type": "markdown",
   "id": "db567e47",
   "metadata": {},
   "source": [
    "#### **난이도 (중)**"
   ]
  },
  {
   "cell_type": "markdown",
   "id": "b644da05",
   "metadata": {},
   "source": [
    "**문제 4 (빈칸 채우기)**\n",
    "세 개의 숫자를 인자로 받아 평균값을 반환하는 `calculate_average` 함수를 완성하세요.\n",
    "\n",
    "\n",
    "___를 지우고 들어갈 내용을 작성하세요"
   ]
  },
  {
   "cell_type": "code",
   "execution_count": 89,
   "id": "d9a9af46",
   "metadata": {},
   "outputs": [],
   "source": [
    "# 여기에 함수를 정의하세요!\n",
    "def calculate_average(a, b, c):\n",
    "    total = a + b + c\n",
    "    average = total / 3\n",
    "    return average"
   ]
  },
  {
   "cell_type": "code",
   "execution_count": 90,
   "id": "8a2e57c2",
   "metadata": {},
   "outputs": [
    {
     "data": {
      "text/plain": [
       "20.0"
      ]
     },
     "execution_count": 90,
     "metadata": {},
     "output_type": "execute_result"
    }
   ],
   "source": [
    "calculate_average(10, 20, 30) # 예상 출력: 20.0"
   ]
  },
  {
   "cell_type": "markdown",
   "id": "ff4eaf51",
   "metadata": {},
   "source": [
    "**문제 5**\n",
    "숫자를 인자로 받아 0보다 크면 \"양수\", 0보다 작으면 \"음수\", 0이면 \"0\"을 출력하는 `check_positive` 함수를 만드세요."
   ]
  },
  {
   "cell_type": "code",
   "execution_count": 113,
   "id": "36e529bf",
   "metadata": {},
   "outputs": [],
   "source": [
    "def check_positive(i):\n",
    "    if i > 0 :\n",
    "        print(\"양수\")\n",
    "    elif i < 0 :\n",
    "        print(\"음수\")\n",
    "    else:\n",
    "        print(\"0\")\n"
   ]
  },
  {
   "cell_type": "code",
   "execution_count": 112,
   "id": "63eb4426",
   "metadata": {},
   "outputs": [
    {
     "name": "stdout",
     "output_type": "stream",
     "text": [
      "양수\n",
      "음수\n",
      "0\n"
     ]
    }
   ],
   "source": [
    "# 여기에 함수를 정의하세요!\n",
    "check_positive(5) # 예상 출력: 양수\n",
    "check_positive(-3) # 예상 출력: 음수\n",
    "check_positive(0) # 예상 출력: 0"
   ]
  },
  {
   "cell_type": "markdown",
   "id": "28fc2215",
   "metadata": {},
   "source": [
    "**문제 6**\n",
    "문자열을 인자로 받아 그 문자열의 길이를 반환하는 ` get_string_length`함수를 만드세요. (힌트: `len()` 함수를 사용하면 안 됩니다.)"
   ]
  },
  {
   "cell_type": "code",
   "execution_count": 59,
   "id": "72ef2479",
   "metadata": {},
   "outputs": [
    {
     "data": {
      "text/plain": [
       "6"
      ]
     },
     "execution_count": 59,
     "metadata": {},
     "output_type": "execute_result"
    }
   ],
   "source": [
    "def get_string_length(words):\n",
    "    count = 0\n",
    "    for i in words:\n",
    "        count += 1\n",
    "    return count\n",
    "get_string_length(\"Python\")"
   ]
  },
  {
   "cell_type": "code",
   "execution_count": 55,
   "id": "d4c33042",
   "metadata": {},
   "outputs": [],
   "source": [
    "def get_string_length(i):\n",
    "    return len(i)\n",
    " "
   ]
  },
  {
   "cell_type": "code",
   "execution_count": 56,
   "id": "6096d379",
   "metadata": {},
   "outputs": [
    {
     "data": {
      "text/plain": [
       "6"
      ]
     },
     "execution_count": 56,
     "metadata": {},
     "output_type": "execute_result"
    }
   ],
   "source": [
    "get_string_length(\"Python\")\n"
   ]
  },
  {
   "cell_type": "markdown",
   "id": "1eb19194",
   "metadata": {},
   "source": [
    "#### **난이도 (상)**"
   ]
  },
  {
   "cell_type": "markdown",
   "id": "78857151",
   "metadata": {},
   "source": [
    "**문제 7 (빈칸 채우기)**\n",
    "정수 리스트를 인자로 받아 리스트의 모든 요소의 합을 반환하는 `sum_list` 함수를 완성하세요.\n",
    "\n",
    "\n",
    "___를 지우고 들어갈 내용을 작성하세요"
   ]
  },
  {
   "cell_type": "code",
   "execution_count": 146,
   "id": "5f01489b",
   "metadata": {},
   "outputs": [],
   "source": [
    "# 여기에 함수를 정의하세요!\n",
    "def sum_list(numbers):\n",
    "    total = 0\n",
    "    for num in numbers:\n",
    "        total += num\n",
    "    return total"
   ]
  },
  {
   "cell_type": "code",
   "execution_count": 147,
   "id": "09e2a703",
   "metadata": {},
   "outputs": [
    {
     "data": {
      "text/plain": [
       "15"
      ]
     },
     "execution_count": 147,
     "metadata": {},
     "output_type": "execute_result"
    }
   ],
   "source": [
    "sum_list([1, 2, 3, 4, 5]) # 예상 출력: 15"
   ]
  },
  {
   "cell_type": "markdown",
   "id": "6d2cb8f4",
   "metadata": {},
   "source": [
    "**문제 8**\n",
    "정수 리스트를 인자로 받아 리스트 내의 가장 큰 값을 반환하는 `find_max` 함수를 만드세요. (힌트: `max()` 함수를 사용하지 마세요.)"
   ]
  },
  {
   "cell_type": "code",
   "execution_count": null,
   "id": "dfade482",
   "metadata": {},
   "outputs": [
    {
     "name": "stdout",
     "output_type": "stream",
     "text": [
      "9\n"
     ]
    }
   ],
   "source": [
    "find_max = [2, 5, 1, 9, 3]\n",
    "find_max.sort()\n",
    "print(find_max[-1]) \n"
   ]
  },
  {
   "cell_type": "code",
   "execution_count": 47,
   "id": "2667090b",
   "metadata": {},
   "outputs": [],
   "source": [
    "def find_max(numbers):\n",
    "    for num in numbers:\n",
    "        if num < num + 1 :\n",
    "            return num\n"
   ]
  },
  {
   "cell_type": "code",
   "execution_count": 48,
   "id": "26eb1cb2",
   "metadata": {},
   "outputs": [
    {
     "data": {
      "text/plain": [
       "2"
      ]
     },
     "execution_count": 48,
     "metadata": {},
     "output_type": "execute_result"
    }
   ],
   "source": [
    "# 여기에 함수를 정의하세요!\n",
    "find_max([2, 5, 1, 9, 3]) # 예상 출력: 9"
   ]
  },
  {
   "cell_type": "markdown",
   "id": "e445dccd",
   "metadata": {},
   "source": [
    "**문제 9**\n",
    "정수 리스트를 인자로 받아, 짝수만 골라 새로운 리스트로 반환하는 `filter_even` 함수를 만드세요."
   ]
  },
  {
   "cell_type": "code",
   "execution_count": 44,
   "id": "91a28698",
   "metadata": {},
   "outputs": [],
   "source": [
    "def filter_even(numbers):\n",
    "    num_list = []  \n",
    "    for num in numbers:\n",
    "        if num % 2 == 0:  \n",
    "            num_list.append(num)\n",
    "    return num_list\n"
   ]
  },
  {
   "cell_type": "code",
   "execution_count": 45,
   "id": "61045355",
   "metadata": {},
   "outputs": [
    {
     "data": {
      "text/plain": [
       "[2, 4, 6]"
      ]
     },
     "execution_count": 45,
     "metadata": {},
     "output_type": "execute_result"
    }
   ],
   "source": [
    "# 여기에 함수를 정의하세요!\n",
    "filter_even([1, 2, 3, 4, 5, 6]) # 예상 출력: [2, 4, 6]"
   ]
  }
 ],
 "metadata": {
  "kernelspec": {
   "display_name": "Python 3",
   "language": "python",
   "name": "python3"
  },
  "language_info": {
   "codemirror_mode": {
    "name": "ipython",
    "version": 3
   },
   "file_extension": ".py",
   "mimetype": "text/x-python",
   "name": "python",
   "nbconvert_exporter": "python",
   "pygments_lexer": "ipython3",
   "version": "3.10.11"
  }
 },
 "nbformat": 4,
 "nbformat_minor": 5
}
