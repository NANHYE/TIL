{
 "cells": [
  {
   "cell_type": "markdown",
   "id": "52fb01db",
   "metadata": {},
   "source": [
    "# 환경세팅"
   ]
  },
  {
   "cell_type": "code",
   "execution_count": null,
   "id": "bb2e7fce",
   "metadata": {},
   "outputs": [],
   "source": [
    "# uv init : 환경 세팅\n",
    "# uv venv : 가상환경 설치\n",
    "# .venv\\Scripts\\activate : 가상환경 들어가기\n",
    "\n",
    "# uv add '내가 설치해야하는 모듈 이름'\n",
    "# uv add ipykernel : 주피터 노트북\n",
    "# uv pip install . : 내가 의존성을 가진 모든 모듈을 설치"
   ]
  },
  {
   "cell_type": "markdown",
   "id": "e04b6997",
   "metadata": {},
   "source": [
    "# git 정리하기"
   ]
  },
  {
   "cell_type": "markdown",
   "id": "fb1c77ae",
   "metadata": {},
   "source": [
    "### git에서 하는 일"
   ]
  },
  {
   "cell_type": "code",
   "execution_count": null,
   "id": "c62075a7",
   "metadata": {},
   "outputs": [],
   "source": [
    "# Create a new repository 만들기 (설정)\n"
   ]
  },
  {
   "cell_type": "markdown",
   "id": "d64b7441",
   "metadata": {},
   "source": [
    "### 내 컴퓨터에서 하는 일 (pull, add, commit, push)"
   ]
  },
  {
   "cell_type": "code",
   "execution_count": null,
   "id": "40581e29",
   "metadata": {},
   "outputs": [],
   "source": [
    "# Visual Studio Code에서 작업하는 폴더 선택 -> 추가옵션 -> Open Git Bash here -> new repository 주소 복붙 : \n",
    "\n",
    "# TERMINAL에서 실행\n",
    "# git pull origin main \n",
    "# git status\n",
    "# git add \n",
    "# git add . \n",
    "# git commit --m '커밋메세지 작성'\n",
    "# git push origin main\n",
    "# .gitignore : git에 공유하면 안되는 파일을 작성 (예.venv 등)\n"
   ]
  },
  {
   "cell_type": "markdown",
   "id": "c4f646bf",
   "metadata": {},
   "source": [
    "# Python 용어 정리"
   ]
  },
  {
   "cell_type": "markdown",
   "id": "b9bfcfe3",
   "metadata": {},
   "source": [
    "### 1. 변수 (Variable)\n",
    "\n",
    "-**정의:** \n",
    "데이터를 담는 상자로 상자에 이름을 붙여놓고(변수명), 그 안에 원하는 데이터(숫자, 글자 등)를 넣음"
   ]
  },
  {
   "cell_type": "code",
   "execution_count": null,
   "id": "267925fc",
   "metadata": {},
   "outputs": [],
   "source": [
    "#**예시:**\n",
    "# a = \"김미소\" \n",
    "# a라는 상자는 변수 \"김미소\"는 데이터"
   ]
  },
  {
   "cell_type": "markdown",
   "id": "a19c3abc",
   "metadata": {},
   "source": [
    "### 2. 식별자 (Identifier)\n",
    "\n",
    "- **정의:** \n",
    "변수, 함수, 클래스 등 프로그램 속 모든 것의 **고유한 이름**\n",
    "- **왕초보를 위한 설명:** \n",
    "'변수'가 '상자'라면, '식별자'는 그 상자에 붙인 '이름표'입니다. `name`, `age`, `calculate_sum`처럼 우리가 직접 정해주는 모든 이름들을 식별자라고 함"
   ]
  },
  {
   "cell_type": "code",
   "execution_count": 4,
   "id": "6abd5240",
   "metadata": {},
   "outputs": [],
   "source": [
    "#**예시:**\n",
    "# a = \"김미소\" \n",
    "# a라는 상자는 변수 \"김미소\"는 데이터 a는 식별자"
   ]
  },
  {
   "cell_type": "markdown",
   "id": "0b380e36",
   "metadata": {},
   "source": [
    "### 3. 연산자 (Operator)\n",
    "\n",
    "- **정의**\n",
    "    - 데이터에 **특정 행동을 하라고 시키는 기호**\n",
    "    - 수학 시간에 배우는 `+`  같은 기호로 컴퓨터에게 \"두 숫자를 더해줘\"라고 명령하는 도구입니다.\n",
    "- **종류:**\n",
    "    - **산술 연산자:** `+` (더하기),  (빼기),  (곱하기), `/` (나누기)\n",
    "    - **할당 연산자:** `=` (값을 할당하는 기호)\n",
    "    - **비교 연산자:** `==` (같다), `>` (크다), `<` (작다), `>=`(크거나 같다), `<=` (작거나 같다)\n",
    "- **주의:**\n",
    "    - **\"=\" 과 \"==\"**"
   ]
  },
  {
   "cell_type": "markdown",
   "id": "bb8f3a7d",
   "metadata": {},
   "source": [
    "### 4. 데이터 타입 (자료형)\n",
    "\n",
    "- **정의:**\n",
    "컴퓨터에게 **데이터의 종류**를 알려주는 개념으로 데이터 타입에 따라 컴퓨터가 데이터를 다루는 방식이 달라짐\n",
    "\n",
    "- **종류:**\n",
    "    - **숫자 (Integer, Float):**\n",
    "        - `int` : `10`과 같은 정수\n",
    "        - `float` : `3.14`와 같은 소수\n",
    "    - **문자열 (String)**\n",
    "     `\"Hello\"`, `'파이썬'`처럼 따옴표로 묶인 글자들의 집합. 문장이나 단어를 다룰 때 사용.\n",
    "    - **불(Bool)**\n",
    "    `True` 또는 `False` 두 가지 값만 가지는 데이터 타입\n",
    "        - 주로 `if` 같은 조건문에서 **'참' 또는 '거짓'**을 판단할 때 사용\n",
    "    - **리스트 (List)**\n",
    "    여러 데이터를 순서대로 담아놓는 '목록'\n",
    "        - `['사과', '바나나', '포도']`처럼 대괄호로 표현\n",
    "    - **튜플 (tuple)**\n",
    "    변경 삭제 불가한 읽기 전용 데이터 구조\n",
    "        - `('데이터1', '데이터2', '데이터3')`처럼 소괄호로 표현\n",
    "    - **딕셔너리 (Dictionary)**\n",
    "        - '키(Key)'와 '값(Value)'이 짝을 이루는 데이터 구조\n",
    "        - `{'name': '김철수', 'age': 25}`처럼 중괄호로 표현하며, 이름(key)을 통해 데이터를 빠르게 찾을 때 유용"
   ]
  },
  {
   "cell_type": "markdown",
   "id": "ed5ac292",
   "metadata": {},
   "source": [
    "### 5. 함수 (Function)\n",
    "\n",
    "- **정의: 특정 기능을 수행하는 코드의 묶음** \n",
    " - 복잡하고 반복되는 코드를 함수라는 이름으로 정의하고, 필요할 때 그 함수를 호출"
   ]
  },
  {
   "cell_type": "code",
   "execution_count": 6,
   "id": "a459c36e",
   "metadata": {},
   "outputs": [
    {
     "name": "stdout",
     "output_type": "stream",
     "text": [
      "안녕하세요, 이정현님!\n"
     ]
    }
   ],
   "source": [
    "# 함수 예시\n",
    "def say_hello(name):  # 'say_hello'라는 함수를 정의\n",
    "    print(f\"안녕하세요, {name}님!\")\n",
    "\n",
    "say_hello(\"이정현\") # 'say_hello'함수를 '호출'해서 실행"
   ]
  }
 ],
 "metadata": {
  "kernelspec": {
   "display_name": "myproject",
   "language": "python",
   "name": "python3"
  },
  "language_info": {
   "codemirror_mode": {
    "name": "ipython",
    "version": 3
   },
   "file_extension": ".py",
   "mimetype": "text/x-python",
   "name": "python",
   "nbconvert_exporter": "python",
   "pygments_lexer": "ipython3",
   "version": "3.13.6"
  }
 },
 "nbformat": 4,
 "nbformat_minor": 5
}
