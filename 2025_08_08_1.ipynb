{
 "cells": [
  {
   "cell_type": "markdown",
   "id": "54780eb5",
   "metadata": {},
   "source": [
    "# Python 코드 흐름 이해 퀴즈"
   ]
  },
  {
   "cell_type": "code",
   "execution_count": 2,
   "id": "86c75ae8",
   "metadata": {},
   "outputs": [
    {
     "name": "stdout",
     "output_type": "stream",
     "text": [
      "첫 번째 줄\n",
      "두 번째 줄\n",
      "세 번째 줄\n"
     ]
    }
   ],
   "source": [
    "# 1. 아래 코드를 실행했을 때, 각 줄이 몇 번 출력될까요?\n",
    "print(\"첫 번째 줄\")\n",
    "print(\"두 번째 줄\")\n",
    "print(\"세 번째 줄\")\n",
    "\n",
    "# 답 : 1번씩 출력\n"
   ]
  },
  {
   "cell_type": "code",
   "execution_count": 4,
   "id": "0af45f7c",
   "metadata": {},
   "outputs": [
    {
     "name": "stdout",
     "output_type": "stream",
     "text": [
      "30\n",
      "계산 끝\n"
     ]
    }
   ],
   "source": [
    "# 2. 아래 코드를 실행했을 때, 각 줄이 몇 번 출력될까요?\n",
    "x = 10\n",
    "y = 20\n",
    "z = x + y\n",
    "print(z)\n",
    "print(\"계산 끝\")\n",
    "\n",
    "# 답 : 1번씩 \n",
    "# 30\n",
    "# 계산 끝"
   ]
  },
  {
   "cell_type": "code",
   "execution_count": 6,
   "id": "99d05175",
   "metadata": {},
   "outputs": [
    {
     "name": "stdout",
     "output_type": "stream",
     "text": [
      "Hello\n",
      "World\n"
     ]
    }
   ],
   "source": [
    "# 3. 아래 코드를 실행했을 때, 각 줄이 몇 번 출력될까요?\n",
    "\n",
    "a = \"Hello\"\n",
    "b = \"World\"\n",
    "print(a)\n",
    "print(b)\n",
    "\n",
    "# 답 : 1번씩\n",
    "# Hello\n",
    "# World"
   ]
  },
  {
   "cell_type": "code",
   "execution_count": 7,
   "id": "31adfab3",
   "metadata": {},
   "outputs": [
    {
     "name": "stdout",
     "output_type": "stream",
     "text": [
      "조건 1\n",
      "끝\n"
     ]
    }
   ],
   "source": [
    "# 4. 아래 코드를 실행했을 때, 각 문자열이 몇 번 출력될까요?\n",
    "\n",
    "x = 5\n",
    "if x > 3:\n",
    "    print(\"조건 1\")\n",
    "else:\n",
    "    print(\"조건 2\")\n",
    "print(\"끝\")\n",
    "\n",
    "# 답 \n",
    "# 조건 1\n",
    "# 끝"
   ]
  },
  {
   "cell_type": "code",
   "execution_count": 8,
   "id": "8c6d036d",
   "metadata": {},
   "outputs": [
    {
     "name": "stdout",
     "output_type": "stream",
     "text": [
      "성인\n",
      "확인 완료\n"
     ]
    }
   ],
   "source": [
    "# 5. 아래 코드를 실행했을 때, 각 문자열이 몇 번 출력될까요?\n",
    "\n",
    "age = 20\n",
    "if age < 18:\n",
    "    print(\"미성년자\")\n",
    "else:\n",
    "    print(\"성인\")\n",
    "print(\"확인 완료\")\n",
    "\n",
    "# 답\n",
    "# 성인\n",
    "# 확인 완료"
   ]
  },
  {
   "cell_type": "code",
   "execution_count": 9,
   "id": "679206eb",
   "metadata": {},
   "outputs": [
    {
     "name": "stdout",
     "output_type": "stream",
     "text": [
      "관리자입니다.\n",
      "접근을 허용합니다.\n",
      "로그인 페이지\n"
     ]
    }
   ],
   "source": [
    "# 6. 아래 코드를 실행했을 때, 각 문자열이 몇 번 출력될까요?\n",
    "\n",
    "is_admin = True\n",
    "if is_admin:\n",
    "    print(\"관리자입니다.\")\n",
    "    print(\"접근을 허용합니다.\")\n",
    "else:\n",
    "    print(\"일반 사용자입니다.\")\n",
    "print(\"로그인 페이지\")\n",
    "\n",
    "# 답\n",
    "# 관리자입니다.\n",
    "# 접근을 허용합니다.\n",
    "# 로그인 페이지"
   ]
  },
  {
   "cell_type": "code",
   "execution_count": 10,
   "id": "37ca8aaf",
   "metadata": {},
   "outputs": [
    {
     "name": "stdout",
     "output_type": "stream",
     "text": [
      "B\n"
     ]
    }
   ],
   "source": [
    "# 7. 아래 코드를 실행했을 때, 각 문자열이 몇 번 출력될까요?\n",
    "\n",
    "score = 85\n",
    "if score >= 90:\n",
    "    print(\"A\")\n",
    "elif score >= 80:\n",
    "    print(\"B\")\n",
    "elif score >= 70:\n",
    "    print(\"C\")\n",
    "else:\n",
    "    print(\"F\")\n",
    "\n",
    "# 답\n",
    "# B    \n"
   ]
  },
  {
   "cell_type": "code",
   "execution_count": 11,
   "id": "d6793120",
   "metadata": {},
   "outputs": [
    {
     "name": "stdout",
     "output_type": "stream",
     "text": [
      "두 조건 모두 참\n"
     ]
    }
   ],
   "source": [
    "# 8. 아래 코드를 실행했을 때, 각 문자열이 몇 번 출력될까요?\n",
    "\n",
    "x = 10\n",
    "y = 5\n",
    "if x > 5 and y < 10:\n",
    "    print(\"두 조건 모두 참\")\n",
    "else:\n",
    "    print(\"조건 중 하나 이상 거짓\")\n",
    "\n",
    "# 답\n",
    "# 두 조건 모두 참    "
   ]
  },
  {
   "cell_type": "code",
   "execution_count": null,
   "id": "3bde3ba0",
   "metadata": {},
   "outputs": [
    {
     "name": "stdout",
     "output_type": "stream",
     "text": [
      "우산이 필요 없습니다.\n",
      "외출 준비\n"
     ]
    }
   ],
   "source": [
    "# 9. 아래 코드를 실행했을 때, 각 문자열이 몇 번 출력될까요?\n",
    "\n",
    "is_raining = False\n",
    "if not is_raining:\n",
    "    print(\"우산이 필요 없습니다.\")\n",
    "print(\"외출 준비\")\n",
    "\n",
    "# 답\n",
    "# 우산이 필요 없습니다.\n",
    "# 외출 준비\n"
   ]
  },
  {
   "cell_type": "code",
   "execution_count": 1,
   "id": "7e60083d",
   "metadata": {},
   "outputs": [
    {
     "name": "stdout",
     "output_type": "stream",
     "text": [
      "반복 중\n",
      "반복 중\n",
      "반복 중\n",
      "반복 중\n",
      "반복 중\n",
      "반복 끝\n"
     ]
    }
   ],
   "source": [
    "# 10. 아래 코드를 실행했을 때, 각 문자열이 몇 번 출력될까요?\n",
    "\n",
    "for i in range(5):\n",
    "    print(\"반복 중\")\n",
    "print(\"반복 끝\")\n",
    "\n",
    "# 답\n",
    "# 반복 중 5번\n",
    "# 반복 끝 1번"
   ]
  },
  {
   "cell_type": "code",
   "execution_count": null,
   "id": "949b9b60",
   "metadata": {},
   "outputs": [
    {
     "name": "stdout",
     "output_type": "stream",
     "text": [
      "총합: 3\n"
     ]
    }
   ],
   "source": [
    "# 11. 아래 코드를 실행했을 때, 각 문자열이 몇 번 출력될까요?\n",
    "\n",
    "total = 0\n",
    "for i in range(3):\n",
    "    total = total + i\n",
    "print(\"총합:\", total)\n",
    "\n",
    "# 답\n",
    "# i = 0,1,2 이고 total은 i 값에 1을 더한 값으로 업데이트 됨. print가 밖에 있으므로 total은 최종값 3만 출력함"
   ]
  },
  {
   "cell_type": "code",
   "execution_count": 1,
   "id": "50dc7ccd",
   "metadata": {},
   "outputs": [
    {
     "name": "stdout",
     "output_type": "stream",
     "text": [
      "무한 루프\n",
      "루프 종료\n"
     ]
    }
   ],
   "source": [
    "# 12. 아래 코드를 실행했을 때, 각 문자열이 몇 번 출력될까요?\n",
    "\n",
    "while True:\n",
    "    print(\"무한 루프\")\n",
    "    break\n",
    "print(\"루프 종료\")\n",
    "\n",
    "# 답\n",
    "# 무한 루프\n",
    "# 루프 종료"
   ]
  },
  {
   "cell_type": "code",
   "execution_count": null,
   "id": "2579d6d9",
   "metadata": {},
   "outputs": [
    {
     "name": "stdout",
     "output_type": "stream",
     "text": [
      "2\n",
      "4\n",
      "6\n",
      "계산 완료\n"
     ]
    }
   ],
   "source": [
    "# 14. 아래 코드를 실행했을 때, 각 문자열이 몇 번 출력될까요?\n",
    "\n",
    "for i in range(1, 4):\n",
    "    print(i * 2)\n",
    "print(\"계산 완료\")\n",
    "\n",
    "# 답\n",
    "# i = 1,2,3 이고 i에 2씩 곱해준 뒤 i의 마지막 숫자까지 계산 후 출력 -> 계산완료\n",
    "# 2\n",
    "# 4\n",
    "# 6\n",
    "# 계산 완료"
   ]
  },
  {
   "cell_type": "code",
   "execution_count": 2,
   "id": "066bbd49",
   "metadata": {},
   "outputs": [
    {
     "name": "stdout",
     "output_type": "stream",
     "text": [
      "P\n",
      "y\n",
      "t\n",
      "h\n",
      "o\n",
      "n\n",
      "문자열 반복 끝\n"
     ]
    }
   ],
   "source": [
    "# 15. 아래 코드를 실행했을 때, 각 문자열이 몇 번 출력될까요?\n",
    "\n",
    "for char in \"Python\":\n",
    "    print(char)\n",
    "print(\"문자열 반복 끝\")\n",
    "\n",
    "# 답\n",
    "# P\n",
    "# y\n",
    "# t\n",
    "# h\n",
    "# o\n",
    "# n\n",
    "# 문자열 반복 끝\n"
   ]
  },
  {
   "cell_type": "code",
   "execution_count": null,
   "id": "83dcb228",
   "metadata": {},
   "outputs": [
    {
     "name": "stdout",
     "output_type": "stream",
     "text": [
      "바깥 반복문\n",
      "안쪽 반복문\n",
      "안쪽 반복문\n",
      "안쪽 반복문\n",
      "바깥 반복문\n",
      "안쪽 반복문\n",
      "안쪽 반복문\n",
      "안쪽 반복문\n",
      "모두 끝\n"
     ]
    }
   ],
   "source": [
    "# 16. 아래 코드를 실행했을 때, 각 문자열이 몇 번 출력될까요?\n",
    "\n",
    "for i in range(2):\n",
    "    print(\"바깥 반복문\")\n",
    "    for j in range(3):\n",
    "        print(\"안쪽 반복문\")\n",
    "print(\"모두 끝\")\n",
    "\n",
    "# 답\n",
    "# 바깥 반복문 1번 실행 후 안쪽 반복문 3번 다시 바깥 반복문 1번 안쪽 반복문 3번 출력 후  모두 끝 1번 출력"
   ]
  },
  {
   "cell_type": "code",
   "execution_count": null,
   "id": "f89e975b",
   "metadata": {},
   "outputs": [
    {
     "name": "stdout",
     "output_type": "stream",
     "text": [
      "i:0, j:0\n",
      "i:0, j:1\n",
      "i:1, j:0\n",
      "i:1, j:1\n",
      "완료\n"
     ]
    }
   ],
   "source": [
    "# 17. 아래 코드를 실행했을 때, 각 문자열이 몇 번 출력될까요?\n",
    "\n",
    "for i in range(2):\n",
    "    for j in range(2):\n",
    "        print(f\"i:{i}, j:{j}\")\n",
    "print(\"완료\")\n",
    "\n",
    "# 답\n",
    "# i = 0,1 j= 0,1 \n",
    "# i의 0 대입 후 j의 0 단계로 감 출력은 i:0, j:0으로 출력 후 j에 1 대입 후 i:0 j:1 출력 \n",
    "# i의 1 대입 후 j의 0 단계로 감 출력은 i:1, j:0으로 출력 후 j에 1 대입 후 i:1 j:1 출력하면 전체 종료\n",
    "# i:0, j:0\n",
    "# i:0, j:1\n",
    "# i:1, j:0\n",
    "# i:1, j:1\n",
    "# 완료"
   ]
  },
  {
   "cell_type": "code",
   "execution_count": null,
   "id": "a9a73f36",
   "metadata": {},
   "outputs": [
    {
     "name": "stdout",
     "output_type": "stream",
     "text": [
      "Inner\n",
      "Outer\n",
      "Inner\n",
      "Outer\n",
      "Inner\n",
      "Outer\n"
     ]
    }
   ],
   "source": [
    "# 18. 아래 코드를 실행했을 때, 각 문자열이 몇 번 출력될까요?\n",
    "\n",
    "for i in range(3):\n",
    "    for j in range(1):\n",
    "        print(\"Inner\")\n",
    "    print(\"Outer\")\n",
    "\n",
    "# 답\n",
    "# i = 0,1,2\n",
    "# i = 0 j = 1 : Inner 출력 Outer 출력\n",
    "# i = 1 j = 1 : Inner 출력 Outer 출력\n",
    "# i = 2 j = 1 : Inner 출력 Outer 출력\n",
    "# Inner 출력 3번 / Outer 3번 출력\n",
    "\n"
   ]
  },
  {
   "cell_type": "code",
   "execution_count": null,
   "id": "dda601c6",
   "metadata": {},
   "outputs": [
    {
     "name": "stdout",
     "output_type": "stream",
     "text": [
      "함수 호출 전\n",
      "함수 내부\n",
      "함수 호출 후\n"
     ]
    }
   ],
   "source": [
    "# 19. 아래 코드를 실행했을 때, 각 문자열이 몇 번 출력될까요?\n",
    "\n",
    "def my_function():\n",
    "    print(\"함수 내부\")\n",
    "\n",
    "print(\"함수 호출 전\")\n",
    "my_function()\n",
    "print(\"함수 호출 후\")\n",
    "\n",
    "# 답\n",
    "# 함수 호출 전 부터 출력 됨 (그 위에는 함수를 정의)\n",
    "# 함수 내부\n",
    "# 함수 호출 후\n"
   ]
  },
  {
   "cell_type": "code",
   "execution_count": null,
   "id": "be5eba32",
   "metadata": {},
   "outputs": [
    {
     "name": "stdout",
     "output_type": "stream",
     "text": [
      "시작\n",
      "30\n",
      "종료\n"
     ]
    }
   ],
   "source": [
    "# 20. 아래 코드를 실행했을 때, 각 문자열이 몇 번 출력될까요?\n",
    "\n",
    "def add(a, b):\n",
    "    print(a + b)\n",
    "\n",
    "print(\"시작\")\n",
    "add(10, 20)\n",
    "print(\"종료\")\n",
    "\n",
    "# 답\n",
    "# 시작 부터 출력(그 위에는 함수를 정의)\n",
    "# 30\n",
    "# 종료"
   ]
  },
  {
   "cell_type": "code",
   "execution_count": 3,
   "id": "d3b52889",
   "metadata": {},
   "outputs": [
    {
     "name": "stdout",
     "output_type": "stream",
     "text": [
      "Hello\n",
      "Hello\n",
      "Bye\n",
      "Hello\n",
      "Hello\n"
     ]
    }
   ],
   "source": [
    "# 21. 아래 코드를 실행했을 때, 각 문자열이 몇 번 출력될까요?\n",
    "\n",
    "def repeat_hello():\n",
    "    for i in range(2):\n",
    "        print(\"Hello\")\n",
    "\n",
    "repeat_hello()\n",
    "print(\"Bye\")\n",
    "repeat_hello()\n",
    "\n",
    "# 답\n",
    "# Hello\n",
    "# Hello\n",
    "# Bye\n",
    "# Hello\n",
    "# Hello"
   ]
  },
  {
   "cell_type": "code",
   "execution_count": 4,
   "id": "a5da8897",
   "metadata": {},
   "outputs": [
    {
     "name": "stdout",
     "output_type": "stream",
     "text": [
      "짝수: 0\n",
      "홀수: 1\n",
      "짝수: 2\n",
      "홀수: 3\n",
      "짝수: 4\n"
     ]
    }
   ],
   "source": [
    "# 22. 아래 코드를 실행했을 때, 각 문자열이 몇 번 출력될까요?\n",
    "\n",
    "for i in range(5):\n",
    "    if i % 2 == 0:\n",
    "        print(\"짝수:\", i)\n",
    "    else:\n",
    "        print(\"홀수:\", i)\n",
    "\n",
    "# 답\n",
    "# i = 0,1,2,3,4\n",
    "# 짝수 : 0\n",
    "# 홀수 : 1\n",
    "# 짝수 : 2\n",
    "# 홀수 : 3\n",
    "# 짝수 : 4        "
   ]
  },
  {
   "cell_type": "code",
   "execution_count": 5,
   "id": "9a81395e",
   "metadata": {},
   "outputs": [
    {
     "name": "stdout",
     "output_type": "stream",
     "text": [
      "조건 1\n",
      "조건 2\n"
     ]
    }
   ],
   "source": [
    "# 23. 아래 코드를 실행했을 때, 각 문자열이 몇 번 출력될까요?\n",
    "\n",
    "x = 10\n",
    "y = 5\n",
    "if x > 5:\n",
    "    print(\"조건 1\")\n",
    "    if y < 10:\n",
    "        print(\"조건 2\")\n",
    "else:\n",
    "    print(\"조건 3\")\n",
    "\n",
    "# 답\n",
    "# 조건 1 \n",
    "# 조건 2    "
   ]
  },
  {
   "cell_type": "code",
   "execution_count": null,
   "id": "afa924b0",
   "metadata": {},
   "outputs": [
    {
     "name": "stdout",
     "output_type": "stream",
     "text": [
      "미성년자입니다.\n",
      "성인입니다.\n"
     ]
    }
   ],
   "source": [
    "# 24. 아래 코드를 실행했을 때, 각 문자열이 몇 번 출력될까요?\n",
    "\n",
    "def check_age(age):\n",
    "    if age >= 20:\n",
    "        print(\"성인입니다.\")\n",
    "    else:\n",
    "        print(\"미성년자입니다.\")\n",
    "\n",
    "check_age(15)\n",
    "check_age(25)\n",
    "\n",
    "# 답\n",
    "# 미성년자입니다. -> check_age(15)의 출력값\n",
    "# 성인입니다.  -> check_age(25)의 출력값"
   ]
  },
  {
   "cell_type": "code",
   "execution_count": 9,
   "id": "e49992b3",
   "metadata": {},
   "outputs": [
    {
     "name": "stdout",
     "output_type": "stream",
     "text": [
      "카운트 시작\n",
      "0\n",
      "1\n",
      "2\n",
      "카운트 종료\n"
     ]
    }
   ],
   "source": [
    "# 25. 아래 코드를 실행했을 때, 각 문자열이 몇 번 출력될까요?\n",
    "\n",
    "def print_numbers(n):\n",
    "    for i in range(n):\n",
    "        print(i)\n",
    "\n",
    "print(\"카운트 시작\")\n",
    "print_numbers(3)\n",
    "print(\"카운트 종료\")\n",
    "\n",
    "# 답\n",
    "# 카운트 시작\n",
    "# 0\n",
    "# 1\n",
    "# 2\n",
    "# 카운트 종료"
   ]
  },
  {
   "cell_type": "code",
   "execution_count": 10,
   "id": "c2b7871b",
   "metadata": {},
   "outputs": [
    {
     "name": "stdout",
     "output_type": "stream",
     "text": [
      "짝수\n",
      "홀수\n",
      "짝수\n",
      "홀수\n"
     ]
    }
   ],
   "source": [
    "# 26. 아래 코드를 실행했을 때, 각 문자열이 몇 번 출력될까요?\n",
    "\n",
    "def check_even_odd(n):\n",
    "    for i in range(n):\n",
    "        if i % 2 == 0:\n",
    "            print(\"짝수\")\n",
    "        else:\n",
    "            print(\"홀수\")\n",
    "\n",
    "check_even_odd(4)\n",
    "\n",
    "# 답\n",
    "# i = 0,1,2,3\n",
    "# 짝수\n",
    "# 홀수\n",
    "# 짝수\n",
    "# 홀수"
   ]
  },
  {
   "cell_type": "code",
   "execution_count": null,
   "id": "615dcb8f",
   "metadata": {},
   "outputs": [
    {
     "name": "stdout",
     "output_type": "stream",
     "text": [
      "Looping...\n",
      "Looping...\n",
      "Stop!\n"
     ]
    }
   ],
   "source": [
    "# 27. 아래 코드를 실행했을 때, 각 문자열이 몇 번 출력될까요?\n",
    "\n",
    "def run_loop(count):\n",
    "    for i in range(count):\n",
    "        print(\"Looping...\")\n",
    "        if i == 1:\n",
    "            print(\"Stop!\")\n",
    "            break\n",
    "run_loop(5)\n",
    "\n",
    "# 답\n",
    "# i = 0,1,2,3,4\n",
    "# Looping...   -> i가 0일 때\n",
    "# Looping...   -> i가 1일 때 \n",
    "# Stop!        -> i가 1일 때 if문 만족하여 출력되고 break  "
   ]
  },
  {
   "cell_type": "code",
   "execution_count": 12,
   "id": "ee58627a",
   "metadata": {},
   "outputs": [
    {
     "name": "stdout",
     "output_type": "stream",
     "text": [
      "i와 j는 같아요: 0\n",
      "i와 j는 같아요: 1\n"
     ]
    }
   ],
   "source": [
    "# 28. 아래 코드를 실행했을 때, 각 문자열이 몇 번 출력될까요?\n",
    "\n",
    "for i in range(2):\n",
    "    for j in range(2):\n",
    "        if i == j:\n",
    "            print(f\"i와 j는 같아요: {i}\")\n",
    "\n",
    "# 답 \n",
    "# i = 0,1 j = 0,1 \n",
    "# \"i와 j는 같아요: 0 \n",
    "# \"i와 j는 같아요: 1              "
   ]
  },
  {
   "cell_type": "code",
   "execution_count": null,
   "id": "a103889c",
   "metadata": {},
   "outputs": [
    {
     "name": "stdout",
     "output_type": "stream",
     "text": [
      "B\n",
      "C\n"
     ]
    }
   ],
   "source": [
    "# 29. 아래 코드를 실행했을 때, 각 문자열이 몇 번 출력될까요?\n",
    "\n",
    "def calculate_grade(score):\n",
    "    if score >= 90:\n",
    "        print(\"A\")\n",
    "    if score >= 80:\n",
    "        print(\"B\")\n",
    "    if score >= 70:\n",
    "        print(\"C\")\n",
    "    else:\n",
    "        print(\"F\")\n",
    "calculate_grade(85)\n",
    "\n",
    "# 답 \n",
    "# B -> 조건문 2번째 만족\n",
    "# C -> 조건문 3번째 만족"
   ]
  },
  {
   "cell_type": "code",
   "execution_count": null,
   "id": "204d35db",
   "metadata": {},
   "outputs": [
    {
     "name": "stdout",
     "output_type": "stream",
     "text": [
      "프로그램 시작\n",
      "메인 함수 시작\n",
      "i는 0\n",
      "i는 1\n",
      "메인 함수 종료\n",
      "프로그램 종료\n"
     ]
    }
   ],
   "source": [
    "# 30. 아래 코드를 실행했을 때, 각 문자열이 몇 번 출력될까요?\n",
    "\n",
    "def main_func():\n",
    "    print(\"메인 함수 시작\")\n",
    "    for i in range(2):\n",
    "        if i == 0:\n",
    "            print(\"i는 0\")\n",
    "        else:\n",
    "            print(\"i는 1\")\n",
    "    print(\"메인 함수 종료\")\n",
    "\n",
    "print(\"프로그램 시작\")\n",
    "main_func()\n",
    "print(\"프로그램 종료\")\n",
    "\n",
    "# 답\n",
    "# 프로그램 시작\n",
    "# 메인 함수 시작\n",
    "#  i는 0                 -> i = 0일때 \n",
    "#  i는 1                 -> i = 1일때 \n",
    "# 메인 함수 종료\n",
    "# 프로그램 종료"
   ]
  }
 ],
 "metadata": {
  "kernelspec": {
   "display_name": "myproject",
   "language": "python",
   "name": "python3"
  },
  "language_info": {
   "codemirror_mode": {
    "name": "ipython",
    "version": 3
   },
   "file_extension": ".py",
   "mimetype": "text/x-python",
   "name": "python",
   "nbconvert_exporter": "python",
   "pygments_lexer": "ipython3",
   "version": "3.13.6"
  }
 },
 "nbformat": 4,
 "nbformat_minor": 5
}
